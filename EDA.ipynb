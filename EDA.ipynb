{
  "nbformat": 4,
  "nbformat_minor": 0,
  "metadata": {
    "colab": {
      "provenance": []
    },
    "kernelspec": {
      "name": "python3",
      "display_name": "Python 3"
    },
    "language_info": {
      "name": "python"
    }
  },
  "cells": [
    {
      "cell_type": "code",
      "execution_count": null,
      "metadata": {
        "colab": {
          "base_uri": "https://localhost:8080/"
        },
        "id": "z6GeYW4fvpo8",
        "outputId": "bfcccf0f-681c-4958-90aa-44bcccf86b31"
      },
      "outputs": [
        {
          "output_type": "stream",
          "name": "stdout",
          "text": [
            "                                  name  selling_price  year seller_type  \\\n",
            "0            Royal Enfield Classic 350         175000  2019  Individual   \n",
            "1                            Honda Dio          45000  2017  Individual   \n",
            "2  Royal Enfield Classic Gunmetal Grey         150000  2018  Individual   \n",
            "3    Yamaha Fazer FI V 2.0 [2016-2018]          65000  2015  Individual   \n",
            "4                Yamaha SZ [2013-2014]          20000  2011  Individual   \n",
            "\n",
            "       owner  km_driven  ex_showroom_price  \n",
            "0  1st owner        350                NaN  \n",
            "1  1st owner       5650                NaN  \n",
            "2  1st owner      12000           148114.0  \n",
            "3  1st owner      23000            89643.0  \n",
            "4  2nd owner      21000                NaN  \n"
          ]
        }
      ],
      "source": [
        "#EDA 1-->\n",
        "\n",
        "import pandas as pd\n",
        "import numpy as np\n",
        "import seaborn as sns\n",
        "import matplotlib.pyplot as plt\n",
        "\n",
        "# Load the dataset\n",
        "df = pd.read_csv('/content/BIKE DETAILS.csv')  # Replace with the actual file path\n",
        "\n",
        "print(df.head())\n"
      ]
    },
    {
      "cell_type": "code",
      "source": [
        "#. Range of selling prices\n",
        "price_range = df['selling_price'].min(), df['selling_price'].max()\n",
        "print(\"Price Range:\", price_range)\n"
      ],
      "metadata": {
        "colab": {
          "base_uri": "https://localhost:8080/"
        },
        "id": "VI245VL-wW8F",
        "outputId": "159a3327-2ff7-457f-9320-dce942e23237"
      },
      "execution_count": null,
      "outputs": [
        {
          "output_type": "stream",
          "name": "stdout",
          "text": [
            "Price Range: (5000, 760000)\n"
          ]
        }
      ]
    },
    {
      "cell_type": "code",
      "source": [
        "#2. Median selling price\n",
        "\n",
        "median_price = df['selling_price'].median()\n",
        "print(\"Median Selling Price:\", median_price)\n"
      ],
      "metadata": {
        "id": "1xXKuorYwW3l"
      },
      "execution_count": null,
      "outputs": []
    },
    {
      "cell_type": "code",
      "source": [
        "#3. Most common seller type\n",
        "\n",
        "common_seller = df['seller_type'].value_counts().idxmax()\n",
        "print(\"Most Common Seller Type:\", common_seller)"
      ],
      "metadata": {
        "id": "Bmjht9dPwW1S"
      },
      "execution_count": null,
      "outputs": []
    },
    {
      "cell_type": "code",
      "source": [
        "#4. Number of bikes driven more than 20,000 km\n",
        "\n",
        "bikes_above_20k = len(df[df['km_driven'] > 20000])\n",
        "print(\"Bikes driven more than 20,000 km:\", bikes_above_20k)\n"
      ],
      "metadata": {
        "id": "m-8cP51gwWy-"
      },
      "execution_count": null,
      "outputs": []
    },
    {
      "cell_type": "code",
      "source": [
        "#5. Average kilometers driven per ownership type\n",
        "\n",
        "avg_km_per_owner = df.groupby('owner')['km_driven'].mean()\n",
        "print(avg_km_per_owner)\n"
      ],
      "metadata": {
        "id": "IdnecQ2QwWw5"
      },
      "execution_count": null,
      "outputs": []
    },
    {
      "cell_type": "code",
      "source": [
        "#6. Proportion of bikes from 2015 or older\n",
        "\n",
        "bikes_2015_or_older = len(df[df['year'] <= 2015]) / len(df)\n",
        "print(\"Proportion of bikes from 2015 or older:\", bikes_2015_or_older)"
      ],
      "metadata": {
        "id": "u2wWEWWGwWuT"
      },
      "execution_count": null,
      "outputs": []
    },
    {
      "cell_type": "code",
      "source": [
        "#7 Missing values trend\n",
        "\n",
        "missing_values = df.isnull().sum()\n",
        "print(\"Missing Values Across Columns:\\n\", missing_values)"
      ],
      "metadata": {
        "id": "H9ZVBWkzwWr4"
      },
      "execution_count": null,
      "outputs": []
    },
    {
      "cell_type": "code",
      "source": [
        "#8. Highest ex-showroom price and bike details\n",
        "\n",
        "max_price_index = df['ex_showroom_price'].idxmax()\n",
        "max_price_bike = df.loc[max_price_index]\n",
        "print(\"Bike with highest ex-showroom price:\\n\", max_price_bike)\n"
      ],
      "metadata": {
        "id": "dilOohc2wWpk"
      },
      "execution_count": null,
      "outputs": []
    },
    {
      "cell_type": "code",
      "source": [
        "#9. Total bikes listed by each seller type\n",
        "\n",
        "seller_type_count = df['seller_type'].value_counts()\n",
        "print(\"Bikes listed by each seller type:\\n\", seller_type_count)\n"
      ],
      "metadata": {
        "id": "c07vlPT3wWnW"
      },
      "execution_count": null,
      "outputs": []
    },
    {
      "cell_type": "code",
      "source": [
        "\n",
        "#10. Relationship between selling price and kilometers driven (1st owner)\n",
        "first_owner_bikes = df[df['owner'] == '1st owner']\n",
        "plt.scatter(first_owner_bikes['km_driven'], first_owner_bikes['sellinR_price'])\n",
        "plt.xlabel('Kilometers Driven')\n",
        "plt.ylabel('Selling Price')\n",
        "plt.title('Selling Price vs Kilometers Driven (1st Owner)')\n",
        "plt.show()"
      ],
      "metadata": {
        "id": "RpxlbsJKxfV0"
      },
      "execution_count": null,
      "outputs": []
    },
    {
      "cell_type": "code",
      "source": [
        "#11. Remove outliers in km_driven using IQR\n",
        "\n",
        "Q1 = df['km_driven'].quantile(0.25)\n",
        "Q3 = df['km_driven'].quantile(0.75)\n",
        "IQR = Q3 - Q1\n",
        "lower_bound = Q1 - 1.5 * IQR\n",
        "upper_bound = Q3 + 1.5 * IQR\n",
        "\n",
        "# Removing outliers\n",
        "df_no_outliers = df[(df['km_driven'] >= lower_bound) & (df['km_driven'] <= upper_bound)]\n",
        "print(\"Dataset size after removing outliers:\", len(df_no_outliers))\n"
      ],
      "metadata": {
        "id": "arV3ZQgwxfSY"
      },
      "execution_count": null,
      "outputs": []
    },
    {
      "cell_type": "code",
      "source": [
        "#12. Relationship between year and selling price\n",
        "\n",
        "plt.scatter(df['year'], df['sellinR_price'])\n",
        "plt.xlabel('Year')\n",
        "plt.ylabel('Selling Price')\n",
        "plt.title('Selling Price vs Year')\n",
        "plt.show()"
      ],
      "metadata": {
        "id": "sYnu8xpvxfP4"
      },
      "execution_count": null,
      "outputs": []
    },
    {
      "cell_type": "code",
      "source": [
        "#13. Average depreciation in selling price based on bike age\n",
        "\n",
        "current_year = 2024  # Update based on current year\n",
        "df['age'] = current_year - df['year']\n",
        "avg_depreciation = df.groupby('age')['sellinR_price'].mean()\n",
        "print(\"Average Depreciation by Age:\\n\", avg_depreciation)\n"
      ],
      "metadata": {
        "id": "Iu3SLm9-xfNP"
      },
      "execution_count": null,
      "outputs": []
    },
    {
      "cell_type": "code",
      "source": [
        "#14. Bikes priced significantly above average for their manufacturing year\n",
        "\n",
        "avg_price_per_year = df.groupby('year')['sellinR_price'].mean()\n",
        "df['above_avg'] = df.apply(lambda x: x['sellinR_price'] > 1.5 * avg_price_per_year.loc[x['year']], axis=1)\n",
        "expensive_bikes = df[df['above_avg']]\n",
        "print(\"Bikes priced significantly above average:\\n\", expensive_bikes)\n"
      ],
      "metadata": {
        "id": "P0ySP0HOxfKz"
      },
      "execution_count": null,
      "outputs": []
    },
    {
      "cell_type": "code",
      "source": [
        "#15. Correlation matrix and heatmap\n",
        "\n",
        "numeric_cols = df.select_dtypes(include=np.number)\n",
        "correlation_matrix = numeric_cols.corr()\n",
        "\n",
        "# Heatmap\n",
        "plt.figure(figsize=(8, 6))\n",
        "sns.heatmap(correlation_matrix, annot=True, cmap='coolwarm')\n",
        "plt.title('Correlation Matrix')\n",
        "plt.show()\n"
      ],
      "metadata": {
        "id": "3BwtdVc8xfIP"
      },
      "execution_count": null,
      "outputs": []
    },
    {
      "cell_type": "code",
      "source": [],
      "metadata": {
        "id": "HBHLrIkGygOR"
      },
      "execution_count": null,
      "outputs": []
    },
    {
      "cell_type": "code",
      "source": [
        "#EDA 2->"
      ],
      "metadata": {
        "id": "crjlQkiMygKt"
      },
      "execution_count": null,
      "outputs": []
    },
    {
      "cell_type": "code",
      "source": [
        "import pandas as pd\n",
        "import numpy as np\n",
        "import seaborn as sns\n",
        "import matplotlib.pyplot as plt\n",
        "\n",
        "# Load the dataset\n",
        "df = pd.read_csv('/content/Car Sale.csv')  # Replace with the actual file path\n",
        "\n",
        "# Quick preview\n",
        "print(df.head())\n"
      ],
      "metadata": {
        "id": "UYD3lj-jygIi",
        "colab": {
          "base_uri": "https://localhost:8080/"
        },
        "outputId": "2d3924e0-7ff8-461e-e0df-67cc9cdbb672"
      },
      "execution_count": 6,
      "outputs": [
        {
          "output_type": "stream",
          "name": "stdout",
          "text": [
            "         Car_id      Date Customer Name Gender  Annual Income  \\\n",
            "0  C_CND_000001  1/2/2022     Geraldine   Male          13500   \n",
            "1  C_CND_000002  1/2/2022           Gia   Male        1480000   \n",
            "2  C_CND_000003  1/2/2022        Gianna   Male        1035000   \n",
            "3  C_CND_000004  1/2/2022       Giselle   Male          13500   \n",
            "4  C_CND_000005  1/2/2022         Grace   Male        1465000   \n",
            "\n",
            "                           Dealer_Name   Company       Model  \\\n",
            "0  Buddy Storbeck's Diesel Service Inc      Ford  Expedition   \n",
            "1                     C & M Motors Inc     Dodge     Durango   \n",
            "2                          Capitol KIA  Cadillac    Eldorado   \n",
            "3               Chrysler of Tri-Cities    Toyota      Celica   \n",
            "4                    Chrysler Plymouth     Acura          TL   \n",
            "\n",
            "                      Engine Transmission       Color  Price ($)  Dealer_No   \\\n",
            "0  DoubleÂ Overhead Camshaft         Auto       Black      26000  06457-3834   \n",
            "1  DoubleÂ Overhead Camshaft         Auto       Black      19000  60504-7114   \n",
            "2          Overhead Camshaft       Manual         Red      31500  38701-8047   \n",
            "3          Overhead Camshaft       Manual  Pale White      14000  99301-3882   \n",
            "4  DoubleÂ Overhead Camshaft         Auto         Red      24500  53546-9427   \n",
            "\n",
            "  Body Style    Phone Dealer_Region  \n",
            "0        SUV  8264678    Middletown  \n",
            "1        SUV  6848189        Aurora  \n",
            "2  Passenger  7298798    Greenville  \n",
            "3        SUV  6257557         Pasco  \n",
            "4  Hatchback  7081483    Janesville  \n"
          ]
        }
      ]
    },
    {
      "cell_type": "code",
      "source": [
        "# 1. Average selling price for each dealer\n",
        "\n",
        "avg_price_per_dealer = df.groupby('Dealer_Name')['Price ($)'].mean()\n",
        "print(\"Average Price for Each Dealer:\\n\", avg_price_per_dealer)\n",
        "\n",
        "# Visualization\n",
        "avg_price_per_dealer.sort_values().plot(kind='barh', figsize=(10, 6))\n",
        "plt.xlabel('Average Price ($)')\n",
        "plt.ylabel('Dealer Name')\n",
        "plt.title('Average Selling Price for Each Dealer')\n",
        "plt.show()"
      ],
      "metadata": {
        "id": "xEBDPfG-ygGD"
      },
      "execution_count": null,
      "outputs": []
    },
    {
      "cell_type": "code",
      "source": [
        "#2. Car brand with the highest price variation\n",
        "\n",
        "price_variation = df.groupby('Company')['Price ($)'].std()\n",
        "highest_variation_brand = price_variation.idxmax()\n",
        "print(\"Brand with highest price variation:\", highest_variation_brand)\n",
        "print(\"Standard Deviation of Prices:\", price_variation.loc[highest_variation_brand])"
      ],
      "metadata": {
        "id": "6zSyxMcnygDo"
      },
      "execution_count": null,
      "outputs": []
    },
    {
      "cell_type": "code",
      "source": [
        "#3. Distribution of car prices for each transmission type\n",
        "\n",
        "sns.boxplot(data=df, x='Transmission', y='Price ($)')\n",
        "plt.title('Car Price Distribution by Transmission Type')\n",
        "plt.xlabel('Transmission Type')\n",
        "plt.ylabel('Price ($)')\n",
        "plt.show()\n"
      ],
      "metadata": {
        "id": "m8yltlR7ygBR"
      },
      "execution_count": null,
      "outputs": []
    },
    {
      "cell_type": "code",
      "source": [
        "#4. Car price distribution across different regions\n",
        "\n",
        "sns.boxplot(data=df, x='Dealer_Region', y='Price ($)')\n",
        "plt.title('Car Price Distribution Across Regions')\n",
        "plt.xlabel('Dealer Region')\n",
        "plt.ylabel('Price ($)')\n",
        "plt.show()\n"
      ],
      "metadata": {
        "id": "v5qP_7Wfyf-2"
      },
      "execution_count": null,
      "outputs": []
    },
    {
      "cell_type": "code",
      "source": [
        "#5. Distribution of cars based on body styles\n",
        "\n",
        "body_style_distribution = df['Body Style'].value_counts()\n",
        "body_style_distribution.plot(kind='bar', figsize=(8, 6))\n",
        "plt.xlabel('Body Style')\n",
        "plt.ylabel('Number of Cars')\n",
        "plt.title('Distribution of Cars by Body Style')\n",
        "plt.show()\n"
      ],
      "metadata": {
        "id": "YzEs0qXCyf8S"
      },
      "execution_count": null,
      "outputs": []
    },
    {
      "cell_type": "code",
      "source": [
        "#6. Average selling price by gender and annual income\n",
        "\n",
        "avg_price_by_gender_income = df.groupby('Gender')['Price ($)'].mean()\n",
        "print(\"Average Price by Gender:\\n\", avg_price_by_gender_income)\n",
        "\n",
        "# Visualization\n",
        "sns.barplot(data=df, x='Gender', y='Price ($)', ci=None)\n",
        "plt.title('Average Price by Gender')\n",
        "plt.xlabel('Gender')\n",
        "plt.ylabel('Price ($)')\n",
        "plt.show()"
      ],
      "metadata": {
        "id": "KLI4bx7_yf55"
      },
      "execution_count": null,
      "outputs": []
    },
    {
      "cell_type": "code",
      "source": [
        "#7. Car price distribution by region and cars sold by region\n",
        "sns.boxplot(data=df, x='Dealer_Region', y='Price ($)')\n",
        "plt.title('Car Price Distribution by Region')\n",
        "plt.xlabel('Region')\n",
        "plt.ylabel('Price ($)')\n",
        "plt.show()\n",
        "\n",
        "# Cars sold by region\n",
        "cars_sold_by_region = df['Dealer_Region'].value_counts()\n",
        "cars_sold_by_region.plot(kind='bar', figsize=(8, 6))\n",
        "plt.xlabel('Region')\n",
        "plt.ylabel('Number of Cars Sold')\n",
        "plt.title('Number of Cars Sold by Region')\n",
        "plt.show()\n"
      ],
      "metadata": {
        "id": "Bx1uZIZ_0zgi"
      },
      "execution_count": null,
      "outputs": []
    },
    {
      "cell_type": "code",
      "source": [
        "#8. Average car price by engine size\n",
        "\n",
        "avg_price_by_engine = df.groupby('Engine')['Price ($)'].mean()\n",
        "print(\"Average Price by Engine Size:\\n\", avg_price_by_engine)\n",
        "\n",
        "# Visualization\n",
        "avg_price_by_engine.sort_values().plot(kind='bar', figsize=(8, 6))\n",
        "plt.xlabel('Engine Size')\n",
        "plt.ylabel('Average Price ($)')\n",
        "plt.title('Average Price by Engine Size')\n",
        "plt.show()\n"
      ],
      "metadata": {
        "id": "eIJLNRf60zeF"
      },
      "execution_count": null,
      "outputs": []
    },
    {
      "cell_type": "code",
      "source": [
        "#9. Car prices based on annual income brackets\n",
        "\n",
        "income_bins = [0, 50000, 100000, 150000, 200000, np.inf]\n",
        "income_labels = ['<50k', '50k-100k', '100k-150k', '150k-200k', '>200k']\n",
        "df['Income Bracket'] = pd.cut(df['Annual Income'], bins=income_bins, labels=income_labels)\n",
        "\n",
        "sns.boxplot(data=df, x='Income Bracket', y='Price ($)')\n",
        "plt.title('Car Price Distribution by Annual Income Bracket')\n",
        "plt.xlabel('Income Bracket')\n",
        "plt.ylabel('Price ($)')\n",
        "plt.show()"
      ],
      "metadata": {
        "id": "p-Lq_KYJ0zbt"
      },
      "execution_count": null,
      "outputs": []
    },
    {
      "cell_type": "code",
      "source": [
        "#10. Top 5 car models with the highest sales and their price distribution\n",
        "\n",
        "top_models = df['Model'].value_counts().head(5).index\n",
        "top_models_data = df[df['Model'].isin(top_models)]\n",
        "\n",
        "sns.boxplot(data=top_models_data, x='Model', y='Price ($)')\n",
        "plt.title('Price Distribution for Top 5 Car Models')\n",
        "plt.xlabel('Car Model')\n",
        "plt.ylabel('Price ($)')\n",
        "plt.show()"
      ],
      "metadata": {
        "id": "K7HTePWf0zZH"
      },
      "execution_count": null,
      "outputs": []
    },
    {
      "cell_type": "code",
      "source": [
        "#11. Car price variation by engine size and color\n",
        "\n",
        "sns.boxplot(data=df, x='Engine', y='Price ($)', hue='Color')\n",
        "plt.title('Car Price by Engine Size and Color')\n",
        "plt.xlabel('Engine Size')\n",
        "plt.ylabel('Price ($)')\n",
        "plt.legend(title='Color', bbox_to_anchor=(1.05, 1), loc='upper left')\n",
        "plt.show()"
      ],
      "metadata": {
        "id": "ZAJHchx70zW0"
      },
      "execution_count": null,
      "outputs": []
    },
    {
      "cell_type": "code",
      "source": [
        "#12. Seasonal trends in car sales based on date\n",
        "\n",
        "df['Date'] = pd.to_datetime(df['Date'])\n",
        "df['Month'] = df['Date'].dt.month\n",
        "\n",
        "sales_by_month = df['Month'].value_counts().sort_index()\n",
        "sales_by_month.plot(kind='bar', figsize=(8, 6))\n",
        "plt.xlabel('Month')\n",
        "plt.ylabel('Number of Cars Sold')\n",
        "plt.title('Seasonal Trends in Car Sales')\n",
        "plt.show()\n"
      ],
      "metadata": {
        "id": "XqTuLFYg1V8C"
      },
      "execution_count": null,
      "outputs": []
    },
    {
      "cell_type": "code",
      "source": [
        "#13. Car price distribution by body style and transmission type\n",
        "\n",
        "sns.boxplot(data=df, x='Body Style', y='Price ($)', hue='Transmission')\n",
        "plt.title('Car Price Distribution by Body Style and Transmission Type')\n",
        "plt.xlabel('Body Style')\n",
        "plt.ylabel('Price ($)')\n",
        "plt.legend(title='Transmission', bbox_to_anchor=(1.05, 1), loc='upper left')\n",
        "plt.show()"
      ],
      "metadata": {
        "id": "QISbt11E1V4j"
      },
      "execution_count": null,
      "outputs": []
    },
    {
      "cell_type": "code",
      "source": [
        "#14. Correlation matrix for car price, engine size, and annual income\n",
        "\n",
        "numeric_cols = df[['Price ($)', 'Annual Income']]\n",
        "correlation_matrix = numeric_cols.corr()\n",
        "\n",
        "sns.heatmap(correlation_matrix, annot=True, cmap='coolwarm')\n",
        "plt.title('Correlation Matrix')\n",
        "plt.show()\n"
      ],
      "metadata": {
        "id": "1TrezR7Q1V2e"
      },
      "execution_count": null,
      "outputs": []
    },
    {
      "cell_type": "code",
      "source": [
        "#15. Average car price across models and engine types\n",
        "\n",
        "avg_price_by_model_engine = df.groupby(['Model', 'Engine'])['Price ($)'].mean()\n",
        "print(\"Average Price by Model and Engine Type:\\n\", avg_price_by_model_engine)"
      ],
      "metadata": {
        "id": "MYo_M5sn1Vz_"
      },
      "execution_count": null,
      "outputs": []
    },
    {
      "cell_type": "code",
      "source": [],
      "metadata": {
        "id": "6IVAEmo11Vxo"
      },
      "execution_count": null,
      "outputs": []
    },
    {
      "cell_type": "code",
      "source": [],
      "metadata": {
        "id": "1IE7B9CV1VvB"
      },
      "execution_count": null,
      "outputs": []
    },
    {
      "cell_type": "code",
      "source": [],
      "metadata": {
        "id": "LOjYx1_I1Vs4"
      },
      "execution_count": null,
      "outputs": []
    },
    {
      "cell_type": "code",
      "source": [],
      "metadata": {
        "id": "iN4kRHgU1Vqg"
      },
      "execution_count": null,
      "outputs": []
    },
    {
      "cell_type": "code",
      "source": [],
      "metadata": {
        "id": "ieLqTs761VoM"
      },
      "execution_count": null,
      "outputs": []
    }
  ]
}